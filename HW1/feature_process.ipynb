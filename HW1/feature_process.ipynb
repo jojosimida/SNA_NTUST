{
 "cells": [
  {
   "cell_type": "code",
   "execution_count": 1,
   "metadata": {},
   "outputs": [],
   "source": [
    "import numpy as np\n",
    "import pandas as pd\n",
    "import networkx as nx\n",
    "from networkx.drawing.nx_agraph import graphviz_layout"
   ]
  },
  {
   "cell_type": "code",
   "execution_count": 2,
   "metadata": {},
   "outputs": [],
   "source": [
    "data_path = '/notebooks/social network/HW1/data/'\n",
    "p1 = 'Period1.csv'\n",
    "p2 = 'Period2.csv'\n",
    "test = 'TestData.csv'"
   ]
  },
  {
   "cell_type": "code",
   "execution_count": 3,
   "metadata": {},
   "outputs": [
    {
     "data": {
      "text/html": [
       "<div>\n",
       "<style scoped>\n",
       "    .dataframe tbody tr th:only-of-type {\n",
       "        vertical-align: middle;\n",
       "    }\n",
       "\n",
       "    .dataframe tbody tr th {\n",
       "        vertical-align: top;\n",
       "    }\n",
       "\n",
       "    .dataframe thead th {\n",
       "        text-align: right;\n",
       "    }\n",
       "</style>\n",
       "<table border=\"1\" class=\"dataframe\">\n",
       "  <thead>\n",
       "    <tr style=\"text-align: right;\">\n",
       "      <th></th>\n",
       "      <th>year</th>\n",
       "      <th>source id</th>\n",
       "      <th>target id</th>\n",
       "    </tr>\n",
       "  </thead>\n",
       "  <tbody>\n",
       "    <tr>\n",
       "      <th>0</th>\n",
       "      <td>1999</td>\n",
       "      <td>9909133</td>\n",
       "      <td>9811241</td>\n",
       "    </tr>\n",
       "    <tr>\n",
       "      <th>1</th>\n",
       "      <td>1997</td>\n",
       "      <td>9702110</td>\n",
       "      <td>9410212</td>\n",
       "    </tr>\n",
       "    <tr>\n",
       "      <th>2</th>\n",
       "      <td>1995</td>\n",
       "      <td>9510041</td>\n",
       "      <td>9210121</td>\n",
       "    </tr>\n",
       "    <tr>\n",
       "      <th>3</th>\n",
       "      <td>1997</td>\n",
       "      <td>9703036</td>\n",
       "      <td>9611090</td>\n",
       "    </tr>\n",
       "    <tr>\n",
       "      <th>4</th>\n",
       "      <td>1997</td>\n",
       "      <td>9610162</td>\n",
       "      <td>9609159</td>\n",
       "    </tr>\n",
       "  </tbody>\n",
       "</table>\n",
       "</div>"
      ],
      "text/plain": [
       "   year  source id  target id\n",
       "0  1999    9909133    9811241\n",
       "1  1997    9702110    9410212\n",
       "2  1995    9510041    9210121\n",
       "3  1997    9703036    9611090\n",
       "4  1997    9610162    9609159"
      ]
     },
     "execution_count": 3,
     "metadata": {},
     "output_type": "execute_result"
    }
   ],
   "source": [
    "df_p1 = pd.read_csv(data_path+p1)\n",
    "df_p1.head()"
   ]
  },
  {
   "cell_type": "code",
   "execution_count": 4,
   "metadata": {},
   "outputs": [
    {
     "data": {
      "text/plain": [
       "(154836, 3)"
      ]
     },
     "execution_count": 4,
     "metadata": {},
     "output_type": "execute_result"
    }
   ],
   "source": [
    "df_p1.shape"
   ]
  },
  {
   "cell_type": "code",
   "execution_count": 5,
   "metadata": {},
   "outputs": [
    {
     "data": {
      "text/plain": [
       "(98353, 3)"
      ]
     },
     "execution_count": 5,
     "metadata": {},
     "output_type": "execute_result"
    }
   ],
   "source": [
    "df_p2 = pd.read_csv(data_path+p2)\n",
    "df_p2.shape"
   ]
  },
  {
   "cell_type": "code",
   "execution_count": 6,
   "metadata": {},
   "outputs": [],
   "source": [
    "# 隨機取100筆\n",
    "df1_shuffle = df_p1.sample(n=100)"
   ]
  },
  {
   "cell_type": "code",
   "execution_count": 7,
   "metadata": {},
   "outputs": [
    {
     "data": {
      "text/html": [
       "<div>\n",
       "<style scoped>\n",
       "    .dataframe tbody tr th:only-of-type {\n",
       "        vertical-align: middle;\n",
       "    }\n",
       "\n",
       "    .dataframe tbody tr th {\n",
       "        vertical-align: top;\n",
       "    }\n",
       "\n",
       "    .dataframe thead th {\n",
       "        text-align: right;\n",
       "    }\n",
       "</style>\n",
       "<table border=\"1\" class=\"dataframe\">\n",
       "  <thead>\n",
       "    <tr style=\"text-align: right;\">\n",
       "      <th></th>\n",
       "      <th>year</th>\n",
       "      <th>source id</th>\n",
       "      <th>target id</th>\n",
       "    </tr>\n",
       "  </thead>\n",
       "  <tbody>\n",
       "    <tr>\n",
       "      <th>146608</th>\n",
       "      <td>1997</td>\n",
       "      <td>9702038</td>\n",
       "      <td>9210127</td>\n",
       "    </tr>\n",
       "    <tr>\n",
       "      <th>79690</th>\n",
       "      <td>1998</td>\n",
       "      <td>9807011</td>\n",
       "      <td>9508068</td>\n",
       "    </tr>\n",
       "    <tr>\n",
       "      <th>49190</th>\n",
       "      <td>1996</td>\n",
       "      <td>9612158</td>\n",
       "      <td>9511128</td>\n",
       "    </tr>\n",
       "    <tr>\n",
       "      <th>39538</th>\n",
       "      <td>1999</td>\n",
       "      <td>9912266</td>\n",
       "      <td>9808014</td>\n",
       "    </tr>\n",
       "    <tr>\n",
       "      <th>56278</th>\n",
       "      <td>1997</td>\n",
       "      <td>9709161</td>\n",
       "      <td>9612207</td>\n",
       "    </tr>\n",
       "  </tbody>\n",
       "</table>\n",
       "</div>"
      ],
      "text/plain": [
       "        year  source id  target id\n",
       "146608  1997    9702038    9210127\n",
       "79690   1998    9807011    9508068\n",
       "49190   1996    9612158    9511128\n",
       "39538   1999    9912266    9808014\n",
       "56278   1997    9709161    9612207"
      ]
     },
     "execution_count": 7,
     "metadata": {},
     "output_type": "execute_result"
    }
   ],
   "source": [
    "df1_shuffle.head()"
   ]
  },
  {
   "cell_type": "code",
   "execution_count": 8,
   "metadata": {},
   "outputs": [],
   "source": [
    "def to_graph(df):\n",
    "    G=nx.Graph()\n",
    "    for i in range(df.shape[0]):\n",
    "        G.add_edge(df.iloc[i]['source id'],df.iloc[i]['target id'])\n",
    "        \n",
    "    return G"
   ]
  },
  {
   "cell_type": "code",
   "execution_count": 9,
   "metadata": {},
   "outputs": [
    {
     "name": "stdout",
     "output_type": "stream",
     "text": [
      "CPU times: user 24 ms, sys: 0 ns, total: 24 ms\n",
      "Wall time: 22.6 ms\n"
     ]
    }
   ],
   "source": [
    "%%time\n",
    "p1_G = to_graph(df1_shuffle)"
   ]
  },
  {
   "cell_type": "code",
   "execution_count": 10,
   "metadata": {},
   "outputs": [
    {
     "data": {
      "text/plain": [
       "100"
      ]
     },
     "execution_count": 10,
     "metadata": {},
     "output_type": "execute_result"
    }
   ],
   "source": [
    "len(p1_G.edges())"
   ]
  },
  {
   "cell_type": "code",
   "execution_count": 11,
   "metadata": {},
   "outputs": [
    {
     "data": {
      "text/plain": [
       "18428"
      ]
     },
     "execution_count": 11,
     "metadata": {},
     "output_type": "execute_result"
    }
   ],
   "source": [
    "p1_nonedge = list(nx.non_edges(p1_G))\n",
    "len(p1_nonedge)"
   ]
  },
  {
   "cell_type": "code",
   "execution_count": 58,
   "metadata": {},
   "outputs": [
    {
     "data": {
      "text/plain": [
       "[(9609219, 9709062),\n",
       " (9609219, 9902088),\n",
       " (9609219, 9610249),\n",
       " (9609219, 9306120),\n",
       " (9609219, 9301003),\n",
       " (9609219, 9708055),\n",
       " (9609219, 9710110),\n",
       " (9609219, 9902113),\n",
       " (9609219, 9707042),\n",
       " (9609219, 9603108)]"
      ]
     },
     "execution_count": 58,
     "metadata": {},
     "output_type": "execute_result"
    }
   ],
   "source": [
    "p1_nonedge[:10]"
   ]
  },
  {
   "cell_type": "code",
   "execution_count": 12,
   "metadata": {},
   "outputs": [
    {
     "data": {
      "text/html": [
       "<div>\n",
       "<style scoped>\n",
       "    .dataframe tbody tr th:only-of-type {\n",
       "        vertical-align: middle;\n",
       "    }\n",
       "\n",
       "    .dataframe tbody tr th {\n",
       "        vertical-align: top;\n",
       "    }\n",
       "\n",
       "    .dataframe thead th {\n",
       "        text-align: right;\n",
       "    }\n",
       "</style>\n",
       "<table border=\"1\" class=\"dataframe\">\n",
       "  <thead>\n",
       "    <tr style=\"text-align: right;\">\n",
       "      <th></th>\n",
       "      <th>source id</th>\n",
       "      <th>target id</th>\n",
       "    </tr>\n",
       "  </thead>\n",
       "  <tbody>\n",
       "    <tr>\n",
       "      <th>0</th>\n",
       "      <td>9609219</td>\n",
       "      <td>9709062</td>\n",
       "    </tr>\n",
       "    <tr>\n",
       "      <th>1</th>\n",
       "      <td>9609219</td>\n",
       "      <td>9902088</td>\n",
       "    </tr>\n",
       "    <tr>\n",
       "      <th>2</th>\n",
       "      <td>9609219</td>\n",
       "      <td>9610249</td>\n",
       "    </tr>\n",
       "    <tr>\n",
       "      <th>3</th>\n",
       "      <td>9609219</td>\n",
       "      <td>9306120</td>\n",
       "    </tr>\n",
       "    <tr>\n",
       "      <th>4</th>\n",
       "      <td>9609219</td>\n",
       "      <td>9301003</td>\n",
       "    </tr>\n",
       "  </tbody>\n",
       "</table>\n",
       "</div>"
      ],
      "text/plain": [
       "   source id  target id\n",
       "0    9609219    9709062\n",
       "1    9609219    9902088\n",
       "2    9609219    9610249\n",
       "3    9609219    9306120\n",
       "4    9609219    9301003"
      ]
     },
     "execution_count": 12,
     "metadata": {},
     "output_type": "execute_result"
    }
   ],
   "source": [
    "# 將P1的non_edge的label設為0\n",
    "# 並且先做成DF\n",
    "\n",
    "# create dataframe\n",
    "label = ['source id','target id']\n",
    "df_p1_fe = pd.DataFrame.from_records(p1_nonedge, columns=label)\n",
    "df_p1_fe.head()"
   ]
  },
  {
   "cell_type": "code",
   "execution_count": 13,
   "metadata": {},
   "outputs": [],
   "source": [
    "def compute_common_neigh(G, nonedge):\n",
    "    common_neigh = [(e[0], e[1], len(list(nx.common_neighbors(G,e[0],e[1])))) for e in nonedge]\n",
    "    return common_neigh\n",
    "\n",
    "\n",
    "def get_list_value(feature_list):\n",
    "    v = []\n",
    "    for i in feature_list:\n",
    "        v.append(i[2])\n",
    "        \n",
    "    to_value = pd.Series(v).values\n",
    "    \n",
    "    return to_value\n",
    "\n",
    "\n",
    "def print_output(out):\n",
    "    print(len(out))\n",
    "    print(out[:5])\n",
    "\n",
    "def get_feature(nonedge, G, df):\n",
    "    common_neigh = compute_common_neigh(G, nonedge)\n",
    "    v = get_list_value(common_neigh)\n",
    "    df['common_neigh'] = v\n",
    "    print_output(common_neigh)\n",
    "    \n",
    "    \n",
    "    jaccard = list(nx.jaccard_coefficient(G))\n",
    "    v = get_list_value(jaccard)\n",
    "    df['jaccard'] = v    \n",
    "    print_output(jaccard)\n",
    "    \n",
    "    resource_alloc = list(nx.resource_allocation_index(G))\n",
    "    v = get_list_value(resource_alloc)\n",
    "    df['resource_alloc'] = v      \n",
    "    print_output(resource_alloc)\n",
    "    \n",
    "    adamic_adar = list(nx.adamic_adar_index(G))\n",
    "    v = get_list_value(adamic_adar)\n",
    "    df['adamic_adar'] = v       \n",
    "    print_output(adamic_adar)\n",
    "    \n",
    "    pref_attach = list(nx.preferential_attachment(G))\n",
    "    v = get_list_value(pref_attach)\n",
    "    df['pref_attach'] = v      \n",
    "    print_output(pref_attach)\n"
   ]
  },
  {
   "cell_type": "code",
   "execution_count": 14,
   "metadata": {},
   "outputs": [
    {
     "name": "stdout",
     "output_type": "stream",
     "text": [
      "18428\n",
      "[(9609219, 9709062, 0), (9609219, 9902088, 0), (9609219, 9610249, 0), (9609219, 9306120, 0), (9609219, 9301003, 0)]\n",
      "18428\n",
      "[(9609219, 9709062, 0.0), (9609219, 9902088, 0.0), (9609219, 9610249, 0.0), (9609219, 9306120, 0.0), (9609219, 9301003, 0.0)]\n",
      "18428\n",
      "[(9609219, 9709062, 0), (9609219, 9902088, 0), (9609219, 9610249, 0), (9609219, 9306120, 0), (9609219, 9301003, 0)]\n",
      "18428\n",
      "[(9609219, 9709062, 0), (9609219, 9902088, 0), (9609219, 9610249, 0), (9609219, 9306120, 0), (9609219, 9301003, 0)]\n",
      "18428\n",
      "[(9609219, 9709062, 1), (9609219, 9902088, 1), (9609219, 9610249, 1), (9609219, 9306120, 1), (9609219, 9301003, 1)]\n"
     ]
    }
   ],
   "source": [
    "# 將P1的 non edge和P1的圖算feature\n",
    "# 因為要算的是non edge的feature，所以將P1的圖代入API就行\n",
    "get_feature(p1_nonedge, p1_G, df_p1_fe)"
   ]
  },
  {
   "cell_type": "code",
   "execution_count": 15,
   "metadata": {},
   "outputs": [
    {
     "data": {
      "text/html": [
       "<div>\n",
       "<style scoped>\n",
       "    .dataframe tbody tr th:only-of-type {\n",
       "        vertical-align: middle;\n",
       "    }\n",
       "\n",
       "    .dataframe tbody tr th {\n",
       "        vertical-align: top;\n",
       "    }\n",
       "\n",
       "    .dataframe thead th {\n",
       "        text-align: right;\n",
       "    }\n",
       "</style>\n",
       "<table border=\"1\" class=\"dataframe\">\n",
       "  <thead>\n",
       "    <tr style=\"text-align: right;\">\n",
       "      <th></th>\n",
       "      <th>source id</th>\n",
       "      <th>target id</th>\n",
       "      <th>common_neigh</th>\n",
       "      <th>jaccard</th>\n",
       "      <th>resource_alloc</th>\n",
       "      <th>adamic_adar</th>\n",
       "      <th>pref_attach</th>\n",
       "    </tr>\n",
       "  </thead>\n",
       "  <tbody>\n",
       "    <tr>\n",
       "      <th>0</th>\n",
       "      <td>9609219</td>\n",
       "      <td>9709062</td>\n",
       "      <td>0</td>\n",
       "      <td>0.0</td>\n",
       "      <td>0.0</td>\n",
       "      <td>0.0</td>\n",
       "      <td>1</td>\n",
       "    </tr>\n",
       "    <tr>\n",
       "      <th>1</th>\n",
       "      <td>9609219</td>\n",
       "      <td>9902088</td>\n",
       "      <td>0</td>\n",
       "      <td>0.0</td>\n",
       "      <td>0.0</td>\n",
       "      <td>0.0</td>\n",
       "      <td>1</td>\n",
       "    </tr>\n",
       "    <tr>\n",
       "      <th>2</th>\n",
       "      <td>9609219</td>\n",
       "      <td>9610249</td>\n",
       "      <td>0</td>\n",
       "      <td>0.0</td>\n",
       "      <td>0.0</td>\n",
       "      <td>0.0</td>\n",
       "      <td>1</td>\n",
       "    </tr>\n",
       "    <tr>\n",
       "      <th>3</th>\n",
       "      <td>9609219</td>\n",
       "      <td>9306120</td>\n",
       "      <td>0</td>\n",
       "      <td>0.0</td>\n",
       "      <td>0.0</td>\n",
       "      <td>0.0</td>\n",
       "      <td>1</td>\n",
       "    </tr>\n",
       "    <tr>\n",
       "      <th>4</th>\n",
       "      <td>9609219</td>\n",
       "      <td>9301003</td>\n",
       "      <td>0</td>\n",
       "      <td>0.0</td>\n",
       "      <td>0.0</td>\n",
       "      <td>0.0</td>\n",
       "      <td>1</td>\n",
       "    </tr>\n",
       "  </tbody>\n",
       "</table>\n",
       "</div>"
      ],
      "text/plain": [
       "   source id  target id  common_neigh  jaccard  resource_alloc  adamic_adar  \\\n",
       "0    9609219    9709062             0      0.0             0.0          0.0   \n",
       "1    9609219    9902088             0      0.0             0.0          0.0   \n",
       "2    9609219    9610249             0      0.0             0.0          0.0   \n",
       "3    9609219    9306120             0      0.0             0.0          0.0   \n",
       "4    9609219    9301003             0      0.0             0.0          0.0   \n",
       "\n",
       "   pref_attach  \n",
       "0            1  \n",
       "1            1  \n",
       "2            1  \n",
       "3            1  \n",
       "4            1  "
      ]
     },
     "execution_count": 15,
     "metadata": {},
     "output_type": "execute_result"
    }
   ],
   "source": [
    "df_p1_fe.head()"
   ]
  },
  {
   "cell_type": "code",
   "execution_count": 16,
   "metadata": {},
   "outputs": [
    {
     "data": {
      "text/html": [
       "<div>\n",
       "<style scoped>\n",
       "    .dataframe tbody tr th:only-of-type {\n",
       "        vertical-align: middle;\n",
       "    }\n",
       "\n",
       "    .dataframe tbody tr th {\n",
       "        vertical-align: top;\n",
       "    }\n",
       "\n",
       "    .dataframe thead th {\n",
       "        text-align: right;\n",
       "    }\n",
       "</style>\n",
       "<table border=\"1\" class=\"dataframe\">\n",
       "  <thead>\n",
       "    <tr style=\"text-align: right;\">\n",
       "      <th></th>\n",
       "      <th>source id</th>\n",
       "      <th>target id</th>\n",
       "      <th>common_neigh</th>\n",
       "      <th>jaccard</th>\n",
       "      <th>resource_alloc</th>\n",
       "      <th>adamic_adar</th>\n",
       "      <th>pref_attach</th>\n",
       "      <th>label</th>\n",
       "    </tr>\n",
       "  </thead>\n",
       "  <tbody>\n",
       "    <tr>\n",
       "      <th>0</th>\n",
       "      <td>9609219</td>\n",
       "      <td>9709062</td>\n",
       "      <td>0</td>\n",
       "      <td>0.0</td>\n",
       "      <td>0.0</td>\n",
       "      <td>0.0</td>\n",
       "      <td>1</td>\n",
       "      <td>0</td>\n",
       "    </tr>\n",
       "    <tr>\n",
       "      <th>1</th>\n",
       "      <td>9609219</td>\n",
       "      <td>9902088</td>\n",
       "      <td>0</td>\n",
       "      <td>0.0</td>\n",
       "      <td>0.0</td>\n",
       "      <td>0.0</td>\n",
       "      <td>1</td>\n",
       "      <td>0</td>\n",
       "    </tr>\n",
       "    <tr>\n",
       "      <th>2</th>\n",
       "      <td>9609219</td>\n",
       "      <td>9610249</td>\n",
       "      <td>0</td>\n",
       "      <td>0.0</td>\n",
       "      <td>0.0</td>\n",
       "      <td>0.0</td>\n",
       "      <td>1</td>\n",
       "      <td>0</td>\n",
       "    </tr>\n",
       "    <tr>\n",
       "      <th>3</th>\n",
       "      <td>9609219</td>\n",
       "      <td>9306120</td>\n",
       "      <td>0</td>\n",
       "      <td>0.0</td>\n",
       "      <td>0.0</td>\n",
       "      <td>0.0</td>\n",
       "      <td>1</td>\n",
       "      <td>0</td>\n",
       "    </tr>\n",
       "    <tr>\n",
       "      <th>4</th>\n",
       "      <td>9609219</td>\n",
       "      <td>9301003</td>\n",
       "      <td>0</td>\n",
       "      <td>0.0</td>\n",
       "      <td>0.0</td>\n",
       "      <td>0.0</td>\n",
       "      <td>1</td>\n",
       "      <td>0</td>\n",
       "    </tr>\n",
       "  </tbody>\n",
       "</table>\n",
       "</div>"
      ],
      "text/plain": [
       "   source id  target id  common_neigh  jaccard  resource_alloc  adamic_adar  \\\n",
       "0    9609219    9709062             0      0.0             0.0          0.0   \n",
       "1    9609219    9902088             0      0.0             0.0          0.0   \n",
       "2    9609219    9610249             0      0.0             0.0          0.0   \n",
       "3    9609219    9306120             0      0.0             0.0          0.0   \n",
       "4    9609219    9301003             0      0.0             0.0          0.0   \n",
       "\n",
       "   pref_attach  label  \n",
       "0            1      0  \n",
       "1            1      0  \n",
       "2            1      0  \n",
       "3            1      0  \n",
       "4            1      0  "
      ]
     },
     "execution_count": 16,
     "metadata": {},
     "output_type": "execute_result"
    }
   ],
   "source": [
    "df_p1_fe['label'] = 0\n",
    "df_p1_fe.head()"
   ]
  },
  {
   "cell_type": "code",
   "execution_count": 47,
   "metadata": {},
   "outputs": [
    {
     "data": {
      "text/plain": [
       "(18428, 8)"
      ]
     },
     "execution_count": 47,
     "metadata": {},
     "output_type": "execute_result"
    }
   ],
   "source": [
    "df_p1_fe.shape"
   ]
  },
  {
   "cell_type": "code",
   "execution_count": 40,
   "metadata": {},
   "outputs": [],
   "source": [
    "# P2隨機取10000筆，讓lable比重不要差太多，也不至於算太久\n",
    "# P2在這裡會被當成是label全為1的資料\n",
    "df2_shuffle = df_p2.sample(n=10000)\n",
    "p2_G = to_graph(df2_shuffle)"
   ]
  },
  {
   "cell_type": "code",
   "execution_count": 41,
   "metadata": {},
   "outputs": [
    {
     "data": {
      "text/plain": [
       "9998"
      ]
     },
     "execution_count": 41,
     "metadata": {},
     "output_type": "execute_result"
    }
   ],
   "source": [
    "len(p2_G.edges())"
   ]
  },
  {
   "cell_type": "code",
   "execution_count": 42,
   "metadata": {},
   "outputs": [
    {
     "data": {
      "text/plain": [
       "28563022"
      ]
     },
     "execution_count": 42,
     "metadata": {},
     "output_type": "execute_result"
    }
   ],
   "source": [
    "# P2取補圖是為了要在算feature時可以算回來當初取的那10000筆資料的feature\n",
    "com_p2 = nx.complement(p2_G)\n",
    "len(com_p2.edges())"
   ]
  },
  {
   "cell_type": "code",
   "execution_count": 43,
   "metadata": {},
   "outputs": [
    {
     "data": {
      "text/plain": [
       "9998"
      ]
     },
     "execution_count": 43,
     "metadata": {},
     "output_type": "execute_result"
    }
   ],
   "source": [
    "p2_nonedge = list(nx.non_edges(com_p2))\n",
    "len(p2_nonedge)"
   ]
  },
  {
   "cell_type": "code",
   "execution_count": 44,
   "metadata": {},
   "outputs": [
    {
     "data": {
      "text/html": [
       "<div>\n",
       "<style scoped>\n",
       "    .dataframe tbody tr th:only-of-type {\n",
       "        vertical-align: middle;\n",
       "    }\n",
       "\n",
       "    .dataframe tbody tr th {\n",
       "        vertical-align: top;\n",
       "    }\n",
       "\n",
       "    .dataframe thead th {\n",
       "        text-align: right;\n",
       "    }\n",
       "</style>\n",
       "<table border=\"1\" class=\"dataframe\">\n",
       "  <thead>\n",
       "    <tr style=\"text-align: right;\">\n",
       "      <th></th>\n",
       "      <th>source id</th>\n",
       "      <th>target id</th>\n",
       "    </tr>\n",
       "  </thead>\n",
       "  <tbody>\n",
       "    <tr>\n",
       "      <th>0</th>\n",
       "      <td>9601024</td>\n",
       "      <td>6005</td>\n",
       "    </tr>\n",
       "    <tr>\n",
       "      <th>1</th>\n",
       "      <td>9601028</td>\n",
       "      <td>110076</td>\n",
       "    </tr>\n",
       "    <tr>\n",
       "      <th>2</th>\n",
       "      <td>9601029</td>\n",
       "      <td>103171</td>\n",
       "    </tr>\n",
       "    <tr>\n",
       "      <th>3</th>\n",
       "      <td>9601029</td>\n",
       "      <td>2116</td>\n",
       "    </tr>\n",
       "    <tr>\n",
       "      <th>4</th>\n",
       "      <td>9601029</td>\n",
       "      <td>104198</td>\n",
       "    </tr>\n",
       "  </tbody>\n",
       "</table>\n",
       "</div>"
      ],
      "text/plain": [
       "   source id  target id\n",
       "0    9601024       6005\n",
       "1    9601028     110076\n",
       "2    9601029     103171\n",
       "3    9601029       2116\n",
       "4    9601029     104198"
      ]
     },
     "execution_count": 44,
     "metadata": {},
     "output_type": "execute_result"
    }
   ],
   "source": [
    "# 將那10000筆資料建成DF，label會是1\n",
    "\n",
    "# create dataframe\n",
    "label = ['source id','target id']\n",
    "df_p2_fe = pd.DataFrame.from_records(p2_nonedge, columns=label)\n",
    "df_p2_fe.head()"
   ]
  },
  {
   "cell_type": "code",
   "execution_count": 45,
   "metadata": {},
   "outputs": [
    {
     "data": {
      "text/plain": [
       "(9998, 2)"
      ]
     },
     "execution_count": 45,
     "metadata": {},
     "output_type": "execute_result"
    }
   ],
   "source": [
    "df_p2_fe.shape"
   ]
  },
  {
   "cell_type": "code",
   "execution_count": 48,
   "metadata": {},
   "outputs": [
    {
     "name": "stdout",
     "output_type": "stream",
     "text": [
      "9998\n",
      "[(9601024, 6005, 7558), (9601028, 110076, 7557), (9601029, 103171, 7536), (9601029, 2116, 7541), (9601029, 104198, 7544)]\n",
      "9998\n",
      "[(9601024, 6005, 1.0), (9601028, 110076, 0.9998676898650437), (9601029, 103171, 0.9970891770309606), (9601029, 2116, 0.9977507277057422), (9601029, 104198, 0.9981476581106112)]\n",
      "9998\n",
      "[(9601024, 6005, 1.0002179212243434), (9601028, 110076, 1.0000855585598876), (9601029, 103171, 0.9973047832377225), (9601029, 2116, 0.9979673347369635), (9601029, 104198, 0.9983642825433556)]\n",
      "9998\n",
      "[(9601024, 6005, 846.3469296506662), (9601028, 110076, 846.2349471278646), (9601029, 103171, 843.8832044225545), (9601029, 2116, 844.4431868854705), (9601029, 104198, 844.7791211735424)]\n",
      "9998\n",
      "[(9601024, 6005, 57123364), (9601028, 110076, 57115806), (9601029, 103171, 56957208), (9601029, 2116, 56994938), (9601029, 104198, 57017576)]\n"
     ]
    }
   ],
   "source": [
    "# 利用補圖可以算回來當初那10000筆資料的feature\n",
    "get_feature(p2_nonedge, com_p2, df_p2_fe)"
   ]
  },
  {
   "cell_type": "code",
   "execution_count": 49,
   "metadata": {},
   "outputs": [
    {
     "data": {
      "text/html": [
       "<div>\n",
       "<style scoped>\n",
       "    .dataframe tbody tr th:only-of-type {\n",
       "        vertical-align: middle;\n",
       "    }\n",
       "\n",
       "    .dataframe tbody tr th {\n",
       "        vertical-align: top;\n",
       "    }\n",
       "\n",
       "    .dataframe thead th {\n",
       "        text-align: right;\n",
       "    }\n",
       "</style>\n",
       "<table border=\"1\" class=\"dataframe\">\n",
       "  <thead>\n",
       "    <tr style=\"text-align: right;\">\n",
       "      <th></th>\n",
       "      <th>source id</th>\n",
       "      <th>target id</th>\n",
       "      <th>common_neigh</th>\n",
       "      <th>jaccard</th>\n",
       "      <th>resource_alloc</th>\n",
       "      <th>adamic_adar</th>\n",
       "      <th>pref_attach</th>\n",
       "    </tr>\n",
       "  </thead>\n",
       "  <tbody>\n",
       "    <tr>\n",
       "      <th>0</th>\n",
       "      <td>9601024</td>\n",
       "      <td>6005</td>\n",
       "      <td>7558</td>\n",
       "      <td>1.000000</td>\n",
       "      <td>1.000218</td>\n",
       "      <td>846.346930</td>\n",
       "      <td>57123364</td>\n",
       "    </tr>\n",
       "    <tr>\n",
       "      <th>1</th>\n",
       "      <td>9601028</td>\n",
       "      <td>110076</td>\n",
       "      <td>7557</td>\n",
       "      <td>0.999868</td>\n",
       "      <td>1.000086</td>\n",
       "      <td>846.234947</td>\n",
       "      <td>57115806</td>\n",
       "    </tr>\n",
       "    <tr>\n",
       "      <th>2</th>\n",
       "      <td>9601029</td>\n",
       "      <td>103171</td>\n",
       "      <td>7536</td>\n",
       "      <td>0.997089</td>\n",
       "      <td>0.997305</td>\n",
       "      <td>843.883204</td>\n",
       "      <td>56957208</td>\n",
       "    </tr>\n",
       "    <tr>\n",
       "      <th>3</th>\n",
       "      <td>9601029</td>\n",
       "      <td>2116</td>\n",
       "      <td>7541</td>\n",
       "      <td>0.997751</td>\n",
       "      <td>0.997967</td>\n",
       "      <td>844.443187</td>\n",
       "      <td>56994938</td>\n",
       "    </tr>\n",
       "    <tr>\n",
       "      <th>4</th>\n",
       "      <td>9601029</td>\n",
       "      <td>104198</td>\n",
       "      <td>7544</td>\n",
       "      <td>0.998148</td>\n",
       "      <td>0.998364</td>\n",
       "      <td>844.779121</td>\n",
       "      <td>57017576</td>\n",
       "    </tr>\n",
       "  </tbody>\n",
       "</table>\n",
       "</div>"
      ],
      "text/plain": [
       "   source id  target id  common_neigh   jaccard  resource_alloc  adamic_adar  \\\n",
       "0    9601024       6005          7558  1.000000        1.000218   846.346930   \n",
       "1    9601028     110076          7557  0.999868        1.000086   846.234947   \n",
       "2    9601029     103171          7536  0.997089        0.997305   843.883204   \n",
       "3    9601029       2116          7541  0.997751        0.997967   844.443187   \n",
       "4    9601029     104198          7544  0.998148        0.998364   844.779121   \n",
       "\n",
       "   pref_attach  \n",
       "0     57123364  \n",
       "1     57115806  \n",
       "2     56957208  \n",
       "3     56994938  \n",
       "4     57017576  "
      ]
     },
     "execution_count": 49,
     "metadata": {},
     "output_type": "execute_result"
    }
   ],
   "source": [
    "df_p2_fe.head()"
   ]
  },
  {
   "cell_type": "code",
   "execution_count": 50,
   "metadata": {},
   "outputs": [
    {
     "data": {
      "text/plain": [
       "(9998, 7)"
      ]
     },
     "execution_count": 50,
     "metadata": {},
     "output_type": "execute_result"
    }
   ],
   "source": [
    "df_p2_fe.shape"
   ]
  },
  {
   "cell_type": "code",
   "execution_count": 51,
   "metadata": {},
   "outputs": [
    {
     "name": "stdout",
     "output_type": "stream",
     "text": [
      "(9998, 8)\n"
     ]
    },
    {
     "data": {
      "text/html": [
       "<div>\n",
       "<style scoped>\n",
       "    .dataframe tbody tr th:only-of-type {\n",
       "        vertical-align: middle;\n",
       "    }\n",
       "\n",
       "    .dataframe tbody tr th {\n",
       "        vertical-align: top;\n",
       "    }\n",
       "\n",
       "    .dataframe thead th {\n",
       "        text-align: right;\n",
       "    }\n",
       "</style>\n",
       "<table border=\"1\" class=\"dataframe\">\n",
       "  <thead>\n",
       "    <tr style=\"text-align: right;\">\n",
       "      <th></th>\n",
       "      <th>source id</th>\n",
       "      <th>target id</th>\n",
       "      <th>common_neigh</th>\n",
       "      <th>jaccard</th>\n",
       "      <th>resource_alloc</th>\n",
       "      <th>adamic_adar</th>\n",
       "      <th>pref_attach</th>\n",
       "      <th>label</th>\n",
       "    </tr>\n",
       "  </thead>\n",
       "  <tbody>\n",
       "    <tr>\n",
       "      <th>0</th>\n",
       "      <td>9601024</td>\n",
       "      <td>6005</td>\n",
       "      <td>7558</td>\n",
       "      <td>1.000000</td>\n",
       "      <td>1.000218</td>\n",
       "      <td>846.346930</td>\n",
       "      <td>57123364</td>\n",
       "      <td>1</td>\n",
       "    </tr>\n",
       "    <tr>\n",
       "      <th>1</th>\n",
       "      <td>9601028</td>\n",
       "      <td>110076</td>\n",
       "      <td>7557</td>\n",
       "      <td>0.999868</td>\n",
       "      <td>1.000086</td>\n",
       "      <td>846.234947</td>\n",
       "      <td>57115806</td>\n",
       "      <td>1</td>\n",
       "    </tr>\n",
       "    <tr>\n",
       "      <th>2</th>\n",
       "      <td>9601029</td>\n",
       "      <td>103171</td>\n",
       "      <td>7536</td>\n",
       "      <td>0.997089</td>\n",
       "      <td>0.997305</td>\n",
       "      <td>843.883204</td>\n",
       "      <td>56957208</td>\n",
       "      <td>1</td>\n",
       "    </tr>\n",
       "    <tr>\n",
       "      <th>3</th>\n",
       "      <td>9601029</td>\n",
       "      <td>2116</td>\n",
       "      <td>7541</td>\n",
       "      <td>0.997751</td>\n",
       "      <td>0.997967</td>\n",
       "      <td>844.443187</td>\n",
       "      <td>56994938</td>\n",
       "      <td>1</td>\n",
       "    </tr>\n",
       "    <tr>\n",
       "      <th>4</th>\n",
       "      <td>9601029</td>\n",
       "      <td>104198</td>\n",
       "      <td>7544</td>\n",
       "      <td>0.998148</td>\n",
       "      <td>0.998364</td>\n",
       "      <td>844.779121</td>\n",
       "      <td>57017576</td>\n",
       "      <td>1</td>\n",
       "    </tr>\n",
       "  </tbody>\n",
       "</table>\n",
       "</div>"
      ],
      "text/plain": [
       "   source id  target id  common_neigh   jaccard  resource_alloc  adamic_adar  \\\n",
       "0    9601024       6005          7558  1.000000        1.000218   846.346930   \n",
       "1    9601028     110076          7557  0.999868        1.000086   846.234947   \n",
       "2    9601029     103171          7536  0.997089        0.997305   843.883204   \n",
       "3    9601029       2116          7541  0.997751        0.997967   844.443187   \n",
       "4    9601029     104198          7544  0.998148        0.998364   844.779121   \n",
       "\n",
       "   pref_attach  label  \n",
       "0     57123364      1  \n",
       "1     57115806      1  \n",
       "2     56957208      1  \n",
       "3     56994938      1  \n",
       "4     57017576      1  "
      ]
     },
     "execution_count": 51,
     "metadata": {},
     "output_type": "execute_result"
    }
   ],
   "source": [
    "df_p2_fe['label'] = 1\n",
    "print(df_p2_fe.shape)\n",
    "df_p2_fe.head()"
   ]
  },
  {
   "cell_type": "code",
   "execution_count": 52,
   "metadata": {},
   "outputs": [
    {
     "data": {
      "text/html": [
       "<div>\n",
       "<style scoped>\n",
       "    .dataframe tbody tr th:only-of-type {\n",
       "        vertical-align: middle;\n",
       "    }\n",
       "\n",
       "    .dataframe tbody tr th {\n",
       "        vertical-align: top;\n",
       "    }\n",
       "\n",
       "    .dataframe thead th {\n",
       "        text-align: right;\n",
       "    }\n",
       "</style>\n",
       "<table border=\"1\" class=\"dataframe\">\n",
       "  <thead>\n",
       "    <tr style=\"text-align: right;\">\n",
       "      <th></th>\n",
       "      <th>source id</th>\n",
       "      <th>target id</th>\n",
       "      <th>common_neigh</th>\n",
       "      <th>jaccard</th>\n",
       "      <th>resource_alloc</th>\n",
       "      <th>adamic_adar</th>\n",
       "      <th>pref_attach</th>\n",
       "      <th>label</th>\n",
       "    </tr>\n",
       "  </thead>\n",
       "  <tbody>\n",
       "    <tr>\n",
       "      <th>0</th>\n",
       "      <td>9601024</td>\n",
       "      <td>6005</td>\n",
       "      <td>7558</td>\n",
       "      <td>1.000000</td>\n",
       "      <td>1.000218</td>\n",
       "      <td>846.346930</td>\n",
       "      <td>57123364</td>\n",
       "      <td>1</td>\n",
       "    </tr>\n",
       "    <tr>\n",
       "      <th>1</th>\n",
       "      <td>9601028</td>\n",
       "      <td>110076</td>\n",
       "      <td>7557</td>\n",
       "      <td>0.999868</td>\n",
       "      <td>1.000086</td>\n",
       "      <td>846.234947</td>\n",
       "      <td>57115806</td>\n",
       "      <td>1</td>\n",
       "    </tr>\n",
       "    <tr>\n",
       "      <th>2</th>\n",
       "      <td>9601029</td>\n",
       "      <td>103171</td>\n",
       "      <td>7536</td>\n",
       "      <td>0.997089</td>\n",
       "      <td>0.997305</td>\n",
       "      <td>843.883204</td>\n",
       "      <td>56957208</td>\n",
       "      <td>1</td>\n",
       "    </tr>\n",
       "    <tr>\n",
       "      <th>3</th>\n",
       "      <td>9601029</td>\n",
       "      <td>2116</td>\n",
       "      <td>7541</td>\n",
       "      <td>0.997751</td>\n",
       "      <td>0.997967</td>\n",
       "      <td>844.443187</td>\n",
       "      <td>56994938</td>\n",
       "      <td>1</td>\n",
       "    </tr>\n",
       "    <tr>\n",
       "      <th>4</th>\n",
       "      <td>9601029</td>\n",
       "      <td>104198</td>\n",
       "      <td>7544</td>\n",
       "      <td>0.998148</td>\n",
       "      <td>0.998364</td>\n",
       "      <td>844.779121</td>\n",
       "      <td>57017576</td>\n",
       "      <td>1</td>\n",
       "    </tr>\n",
       "  </tbody>\n",
       "</table>\n",
       "</div>"
      ],
      "text/plain": [
       "   source id  target id  common_neigh   jaccard  resource_alloc  adamic_adar  \\\n",
       "0    9601024       6005          7558  1.000000        1.000218   846.346930   \n",
       "1    9601028     110076          7557  0.999868        1.000086   846.234947   \n",
       "2    9601029     103171          7536  0.997089        0.997305   843.883204   \n",
       "3    9601029       2116          7541  0.997751        0.997967   844.443187   \n",
       "4    9601029     104198          7544  0.998148        0.998364   844.779121   \n",
       "\n",
       "   pref_attach  label  \n",
       "0     57123364      1  \n",
       "1     57115806      1  \n",
       "2     56957208      1  \n",
       "3     56994938      1  \n",
       "4     57017576      1  "
      ]
     },
     "execution_count": 52,
     "metadata": {},
     "output_type": "execute_result"
    }
   ],
   "source": [
    "all_df = pd.concat([df_p2_fe, df_p1_fe], axis=0)\n",
    "all_df.head()"
   ]
  },
  {
   "cell_type": "code",
   "execution_count": 53,
   "metadata": {},
   "outputs": [
    {
     "data": {
      "text/plain": [
       "(28426, 8)"
      ]
     },
     "execution_count": 53,
     "metadata": {},
     "output_type": "execute_result"
    }
   ],
   "source": [
    "all_df.shape"
   ]
  },
  {
   "cell_type": "code",
   "execution_count": 54,
   "metadata": {},
   "outputs": [
    {
     "data": {
      "text/plain": [
       "False    28426\n",
       "dtype: int64"
      ]
     },
     "execution_count": 54,
     "metadata": {},
     "output_type": "execute_result"
    }
   ],
   "source": [
    "# 檢查是否label 1的邊和label 0的邊重複\n",
    "\n",
    "not_duplicated_row = all_df.duplicated(['source id', 'target id'])\n",
    "not_duplicated_row.value_counts()"
   ]
  },
  {
   "cell_type": "code",
   "execution_count": 55,
   "metadata": {},
   "outputs": [
    {
     "data": {
      "text/html": [
       "<div>\n",
       "<style scoped>\n",
       "    .dataframe tbody tr th:only-of-type {\n",
       "        vertical-align: middle;\n",
       "    }\n",
       "\n",
       "    .dataframe tbody tr th {\n",
       "        vertical-align: top;\n",
       "    }\n",
       "\n",
       "    .dataframe thead th {\n",
       "        text-align: right;\n",
       "    }\n",
       "</style>\n",
       "<table border=\"1\" class=\"dataframe\">\n",
       "  <thead>\n",
       "    <tr style=\"text-align: right;\">\n",
       "      <th></th>\n",
       "      <th>source id</th>\n",
       "      <th>target id</th>\n",
       "      <th>common_neigh</th>\n",
       "      <th>jaccard</th>\n",
       "      <th>resource_alloc</th>\n",
       "      <th>adamic_adar</th>\n",
       "      <th>pref_attach</th>\n",
       "      <th>label</th>\n",
       "    </tr>\n",
       "  </thead>\n",
       "  <tbody>\n",
       "    <tr>\n",
       "      <th>0</th>\n",
       "      <td>9802067</td>\n",
       "      <td>9910135</td>\n",
       "      <td>0</td>\n",
       "      <td>0.000000</td>\n",
       "      <td>0.000000</td>\n",
       "      <td>0.000000</td>\n",
       "      <td>1</td>\n",
       "      <td>0</td>\n",
       "    </tr>\n",
       "    <tr>\n",
       "      <th>1</th>\n",
       "      <td>9406055</td>\n",
       "      <td>9910067</td>\n",
       "      <td>0</td>\n",
       "      <td>0.000000</td>\n",
       "      <td>0.000000</td>\n",
       "      <td>0.000000</td>\n",
       "      <td>1</td>\n",
       "      <td>0</td>\n",
       "    </tr>\n",
       "    <tr>\n",
       "      <th>2</th>\n",
       "      <td>103230</td>\n",
       "      <td>112191</td>\n",
       "      <td>7555</td>\n",
       "      <td>0.999603</td>\n",
       "      <td>0.999821</td>\n",
       "      <td>846.010967</td>\n",
       "      <td>57100690</td>\n",
       "      <td>1</td>\n",
       "    </tr>\n",
       "    <tr>\n",
       "      <th>3</th>\n",
       "      <td>9704098</td>\n",
       "      <td>9412062</td>\n",
       "      <td>0</td>\n",
       "      <td>0.000000</td>\n",
       "      <td>0.000000</td>\n",
       "      <td>0.000000</td>\n",
       "      <td>1</td>\n",
       "      <td>0</td>\n",
       "    </tr>\n",
       "    <tr>\n",
       "      <th>4</th>\n",
       "      <td>9708149</td>\n",
       "      <td>9412062</td>\n",
       "      <td>0</td>\n",
       "      <td>0.000000</td>\n",
       "      <td>0.000000</td>\n",
       "      <td>0.000000</td>\n",
       "      <td>1</td>\n",
       "      <td>0</td>\n",
       "    </tr>\n",
       "    <tr>\n",
       "      <th>5</th>\n",
       "      <td>9909003</td>\n",
       "      <td>9912266</td>\n",
       "      <td>0</td>\n",
       "      <td>0.000000</td>\n",
       "      <td>0.000000</td>\n",
       "      <td>0.000000</td>\n",
       "      <td>1</td>\n",
       "      <td>0</td>\n",
       "    </tr>\n",
       "    <tr>\n",
       "      <th>6</th>\n",
       "      <td>9808057</td>\n",
       "      <td>9704184</td>\n",
       "      <td>0</td>\n",
       "      <td>0.000000</td>\n",
       "      <td>0.000000</td>\n",
       "      <td>0.000000</td>\n",
       "      <td>1</td>\n",
       "      <td>0</td>\n",
       "    </tr>\n",
       "    <tr>\n",
       "      <th>7</th>\n",
       "      <td>9302103</td>\n",
       "      <td>9410167</td>\n",
       "      <td>0</td>\n",
       "      <td>0.000000</td>\n",
       "      <td>0.000000</td>\n",
       "      <td>0.000000</td>\n",
       "      <td>1</td>\n",
       "      <td>0</td>\n",
       "    </tr>\n",
       "    <tr>\n",
       "      <th>8</th>\n",
       "      <td>2190</td>\n",
       "      <td>104067</td>\n",
       "      <td>7548</td>\n",
       "      <td>0.998677</td>\n",
       "      <td>0.998894</td>\n",
       "      <td>845.227076</td>\n",
       "      <td>57047793</td>\n",
       "      <td>1</td>\n",
       "    </tr>\n",
       "    <tr>\n",
       "      <th>9</th>\n",
       "      <td>9508021</td>\n",
       "      <td>9802163</td>\n",
       "      <td>0</td>\n",
       "      <td>0.000000</td>\n",
       "      <td>0.000000</td>\n",
       "      <td>0.000000</td>\n",
       "      <td>1</td>\n",
       "      <td>0</td>\n",
       "    </tr>\n",
       "  </tbody>\n",
       "</table>\n",
       "</div>"
      ],
      "text/plain": [
       "   source id  target id  common_neigh   jaccard  resource_alloc  adamic_adar  \\\n",
       "0    9802067    9910135             0  0.000000        0.000000     0.000000   \n",
       "1    9406055    9910067             0  0.000000        0.000000     0.000000   \n",
       "2     103230     112191          7555  0.999603        0.999821   846.010967   \n",
       "3    9704098    9412062             0  0.000000        0.000000     0.000000   \n",
       "4    9708149    9412062             0  0.000000        0.000000     0.000000   \n",
       "5    9909003    9912266             0  0.000000        0.000000     0.000000   \n",
       "6    9808057    9704184             0  0.000000        0.000000     0.000000   \n",
       "7    9302103    9410167             0  0.000000        0.000000     0.000000   \n",
       "8       2190     104067          7548  0.998677        0.998894   845.227076   \n",
       "9    9508021    9802163             0  0.000000        0.000000     0.000000   \n",
       "\n",
       "   pref_attach  label  \n",
       "0            1      0  \n",
       "1            1      0  \n",
       "2     57100690      1  \n",
       "3            1      0  \n",
       "4            1      0  \n",
       "5            1      0  \n",
       "6            1      0  \n",
       "7            1      0  \n",
       "8     57047793      1  \n",
       "9            1      0  "
      ]
     },
     "execution_count": 55,
     "metadata": {},
     "output_type": "execute_result"
    }
   ],
   "source": [
    "# 如果有重複就把label 0的邊刪掉\n",
    "# 因為這代表那個邊在未來會出現，不該為0\n",
    "# 然後將DF洗亂，方便去TRAIN\n",
    "\n",
    "all_df = all_df[~not_duplicated_row].sample(frac=1).reset_index(drop=True)\n",
    "all_df.head(10)"
   ]
  },
  {
   "cell_type": "code",
   "execution_count": 56,
   "metadata": {},
   "outputs": [
    {
     "data": {
      "text/plain": [
       "9910263    192\n",
       "9410046    191\n",
       "9608186    190\n",
       "9611230    189\n",
       "9903093    188\n",
       "9601010    187\n",
       "9308139    186\n",
       "9803235    186\n",
       "9411048    185\n",
       "9910238    184\n",
       "9909205    183\n",
       "9412062    181\n",
       "9612251    180\n",
       "9902043    179\n",
       "9902040    179\n",
       "9612246    177\n",
       "9309140    176\n",
       "9902035    174\n",
       "9604051    173\n",
       "9710032    172\n",
       "Name: target id, dtype: int64"
      ]
     },
     "execution_count": 56,
     "metadata": {},
     "output_type": "execute_result"
    }
   ],
   "source": [
    "# 檢查target重複的項目與次數\n",
    "all_df['target id'].value_counts()[:20]"
   ]
  },
  {
   "cell_type": "code",
   "execution_count": 57,
   "metadata": {},
   "outputs": [
    {
     "name": "stdout",
     "output_type": "stream",
     "text": [
      "CPU times: user 332 ms, sys: 12 ms, total: 344 ms\n",
      "Wall time: 339 ms\n"
     ]
    }
   ],
   "source": [
    "%%time\n",
    "all_df.to_csv('process1.csv', index=False)"
   ]
  },
  {
   "cell_type": "code",
   "execution_count": 59,
   "metadata": {},
   "outputs": [
    {
     "data": {
      "text/plain": [
       "9910263    192\n",
       "9410046    191\n",
       "9608186    190\n",
       "9611230    189\n",
       "9903093    188\n",
       "9601010    187\n",
       "9308139    186\n",
       "9803235    186\n",
       "9411048    185\n",
       "9910238    184\n",
       "9909205    183\n",
       "9412062    181\n",
       "9612251    180\n",
       "9902043    179\n",
       "9902040    179\n",
       "9612246    177\n",
       "9309140    176\n",
       "9902035    174\n",
       "9604051    173\n",
       "9710032    172\n",
       "9802150    172\n",
       "9912266    171\n",
       "9305040    171\n",
       "9604041    169\n",
       "9503176    168\n",
       "9307079    168\n",
       "9606086    167\n",
       "9611203    166\n",
       "9902019    165\n",
       "9605054    162\n",
       "          ... \n",
       "9903189      1\n",
       "9712239      1\n",
       "105082       1\n",
       "9704059      1\n",
       "105210       1\n",
       "9608074      1\n",
       "7034         1\n",
       "9909103      1\n",
       "7002         1\n",
       "101176       1\n",
       "9612076      1\n",
       "11036        1\n",
       "103195       1\n",
       "105242       1\n",
       "11020        1\n",
       "11004        1\n",
       "101112       1\n",
       "109180       1\n",
       "9403126      1\n",
       "9908114      1\n",
       "101064       1\n",
       "107197       1\n",
       "103099       1\n",
       "105146       1\n",
       "8166         1\n",
       "103083       1\n",
       "111263       1\n",
       "9705124      1\n",
       "9704075      1\n",
       "4098         1\n",
       "Name: target id, Length: 5137, dtype: int64"
      ]
     },
     "execution_count": 59,
     "metadata": {},
     "output_type": "execute_result"
    }
   ],
   "source": [
    "all_df['target id'].value_counts()"
   ]
  },
  {
   "cell_type": "code",
   "execution_count": null,
   "metadata": {},
   "outputs": [],
   "source": []
  }
 ],
 "metadata": {
  "kernelspec": {
   "display_name": "Python 3",
   "language": "python",
   "name": "python3"
  },
  "language_info": {
   "codemirror_mode": {
    "name": "ipython",
    "version": 3
   },
   "file_extension": ".py",
   "mimetype": "text/x-python",
   "name": "python",
   "nbconvert_exporter": "python",
   "pygments_lexer": "ipython3",
   "version": "3.5.2"
  }
 },
 "nbformat": 4,
 "nbformat_minor": 2
}
