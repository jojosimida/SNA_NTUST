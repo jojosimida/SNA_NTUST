{
 "cells": [
  {
   "cell_type": "code",
   "execution_count": 1,
   "metadata": {},
   "outputs": [],
   "source": [
    "import re\n",
    "import codecs"
   ]
  },
  {
   "cell_type": "code",
   "execution_count": 2,
   "metadata": {},
   "outputs": [],
   "source": [
    "file_to_split = '/dataset/SNA_final/三國演義.txt'\n",
    "split_path = '/dataset/SNA_final/split_chapter/'\n"
   ]
  },
  {
   "cell_type": "code",
   "execution_count": 3,
   "metadata": {},
   "outputs": [],
   "source": [
    "# unicode for '第000'\n",
    "uni = '\\u7b2c\\d+'"
   ]
  },
  {
   "cell_type": "code",
   "execution_count": 4,
   "metadata": {},
   "outputs": [],
   "source": [
    "with codecs.open(file_to_split.encode('utf-8'), \"r\",'utf8') as f:\n",
    "    \n",
    "    lines = f.readlines()\n",
    "    seg = [0]\n",
    "    \n",
    "    # get the segment line number\n",
    "    for i,line in enumerate(lines):\n",
    "        if re.match(uni,line):\n",
    "            if i==0:\n",
    "                continue\n",
    "\n",
    "            seg.append(i)\n",
    "            \n",
    "    \n",
    "    for i in range(len(seg)):\n",
    "        try:\n",
    "            seg_context = lines[seg[i]:seg[i+1]]\n",
    "\n",
    "        # last segment\n",
    "        except IndexError:\n",
    "            seg_context = lines[seg[i]:]\n",
    "            \n",
    "            # get the chapter number\n",
    "            ind = seg_context[0][1:4]\n",
    "            \n",
    "            to_string = ''.join(seg_context)\n",
    "            with codecs.open((split_path+ind+'.txt').encode('utf-8'), 'w', 'utf8') as tofile:\n",
    "                tofile.write(to_string)\n",
    "\n",
    "        else:\n",
    "            ind = seg_context[0][1:4]\n",
    "            to_string = ''.join(seg_context)\n",
    "            with codecs.open((split_path+ind+'.txt').encode('utf-8'), 'w', 'utf8') as tofile:\n",
    "                tofile.write(to_string)\n",
    "            \n",
    "\n",
    "                "
   ]
  },
  {
   "cell_type": "code",
   "execution_count": null,
   "metadata": {},
   "outputs": [],
   "source": []
  }
 ],
 "metadata": {
  "kernelspec": {
   "display_name": "Python 3",
   "language": "python",
   "name": "python3"
  },
  "language_info": {
   "codemirror_mode": {
    "name": "ipython",
    "version": 3
   },
   "file_extension": ".py",
   "mimetype": "text/x-python",
   "name": "python",
   "nbconvert_exporter": "python",
   "pygments_lexer": "ipython3",
   "version": "3.5.2"
  }
 },
 "nbformat": 4,
 "nbformat_minor": 2
}
